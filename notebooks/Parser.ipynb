{
 "cells": [
  {
   "cell_type": "markdown",
   "metadata": {},
   "source": [
    "##  Реализация web-crawler для сбора коллекции документов с указанного ресурса. \n",
    "\n",
    "Выбор формата хранения коллекции - MongoDB? Forlder with files? Relation DataBase\n",
    "\n",
    "### Характеристики коллекции:\n",
    "- Объем собранной коллекции не менее 100 тысяч уникальных документов \n",
    "- Размер текста для каждого документа должен быть не менее 2000 символов\n",
    "- Механизм очистки документов от не релевантной информации, например:\n",
    "    - html теги\n",
    "    - ссылки на сторонние или внутренние ресурсы сайта\n",
    "    - ссылки на изображения и видео\n",
    "    - знаки препинания\n",
    "- Выделение признаков документа\n",
    "    - автор\n",
    "    - тематические теги\n",
    "    - рейтинг\n",
    "    - репосты\n",
    "    - дата публикации \n",
    "    - другая метаинформация, предоставляемая ресурсом.\n",
    "\n",
    "### Результатом сдачи является:\n",
    "- код web-crawler\n",
    "- инструмент очистки текстов\n",
    "- исходная коллекция документов\n",
    "- коллекция документов после очистки\n",
    "\n"
   ]
  },
  {
   "cell_type": "markdown",
   "metadata": {},
   "source": [
    "## Результаты сейчас:\n",
    "\n",
    "- Код для скачивания данных с сайта по дате\n",
    "- Выгрузка осуществлена за последние 280 дней в формат html\n"
   ]
  },
  {
   "cell_type": "code",
   "execution_count": null,
   "metadata": {},
   "outputs": [],
   "source": [
    "Признаки документа\n",
    " \n",
    "После исследования содержимого для статьи (тег <article>)\n",
    "В качестве важных признаков документа отобраны:\n",
    "    \n",
    "+ идентификатор статьи: <article data-story-id=\"7358483\" >\n",
    "    \n",
    "+ ссылка на статью и заголовок статьи: <h2 class=\"story__title\">\n",
    "    <a class=\"story__title-link\" \n",
    "    href=\"https://pikabu.ru/story/13_minut_kotoryie_ne_izmenili_mir_7356303\" \n",
    "    target=\"_blank\">13 минут, которые не изменили мир</a></h2>\n",
    "</header>\n",
    "    \n",
    "+ идентификатор автора: ( <div class=\"user__info-item\"><a class=\"user__nick story__user-link\"\n",
    "                         data-profile=\"true\" href=\"/@AuthorName\">AuthorName</a></div> )\n",
    "    \n",
    "+ дата публикации: <div class=\"user__info-item\">\n",
    "    <time class=\"caption story__datetime hint\" datetime=\"2020-04-09T07:34:46+03:00\">2 дня назад</time>\n",
    "    </div>\n",
    "    \n",
    "+ рейтинг: <div class=\"story__rating-count\">14812</div>\n",
    "    \n",
    "+- количчество просмотров: <div aria-label=\"619995 просмотров\" class=\"story__views hint\">\n",
    "    <span class=\"story__views-count story__views-count_loaded\">620K</span>\n",
    "</div>\n",
    "\n",
    "+ количество комментариев: <span class=\"story__comments-link-count\">1046</span>\n",
    "    \n",
    "+ теги  <div class=\"story__tags tags\">\n",
    "    <a class=\"tags__tag\" data-tag=\"Текст\" data-tag-menu=\"true\" \n",
    "        href=\"/tag/%D0%A2%D0%B5%D0%BA%D1%81%D1%82/hot\" rel=\"noopener\"\n",
    "        target=\"_blank\">Текст</a> \n",
    "    <a >Соседи</a> \n",
    "    <a >Электричество</a> \n",
    "    <a >Воровство</a>\n",
    "</div>\n",
    "\n",
    "+ текст публикации\n",
    "    <div class=\"story__content-inner\">\n",
    "    И очень-очень много вложенных тегов разного вида\n",
    "</div>"
   ]
  },
  {
   "cell_type": "code",
   "execution_count": 23,
   "metadata": {},
   "outputs": [],
   "source": [
    "from bs4 import BeautifulSoup\n",
    "import codecs\n",
    "import re"
   ]
  },
  {
   "cell_type": "code",
   "execution_count": 15,
   "metadata": {},
   "outputs": [],
   "source": [
    "def open_html(file_name):\n",
    "    f = codecs.open(file_name, 'r', 'utf-8')\n",
    "    document = BeautifulSoup(f.read())\n",
    "    return document\n",
    "\n",
    "def printh(text):\n",
    "    print(text.prettify())"
   ]
  },
  {
   "cell_type": "code",
   "execution_count": null,
   "metadata": {},
   "outputs": [],
   "source": [
    "printh(open_html(\"source_html/pikabu10.html\"))"
   ]
  },
  {
   "cell_type": "code",
   "execution_count": 49,
   "metadata": {},
   "outputs": [
    {
     "name": "stdout",
     "output_type": "stream",
     "text": [
      "['Работа', 'Юмор', '2020', 'Текст', 'Карантин']\n"
     ]
    }
   ],
   "source": [
    "def tags(page):\n",
    "    \n",
    "    t = page.find('div', {'class': 'story__tags tags'}).text\n",
    "    t = re.sub(\"^\\s+|\\n|\\r|\\s+$\", '', t)\n",
    "    t = t.split(\" \")\n",
    "    return t\n",
    "\n",
    "art10 = open_html(\"source_html/pikabu10.html\")\n",
    "print(tags(art10))"
   ]
  },
  {
   "cell_type": "code",
   "execution_count": 53,
   "metadata": {},
   "outputs": [
    {
     "name": "stdout",
     "output_type": "stream",
     "text": [
      "\n",
      "Помню, как иногда, отпрашивался на работе, и сваливал незаметно, но чтобы ходить на работу тайком от президента, к этому меня жизнь не готовила...\n",
      "\n"
     ]
    }
   ],
   "source": [
    "def text(page):\n",
    "    \n",
    "    t = page.find('div', {'class': 'story__content-inner'}).text\n",
    "    # clean_text(t)\n",
    "    # t = t.split(\" \")\n",
    "    return t\n",
    "\n",
    "print(text(art10))"
   ]
  },
  {
   "cell_type": "code",
   "execution_count": 58,
   "metadata": {},
   "outputs": [
    {
     "name": "stdout",
     "output_type": "stream",
     "text": [
      "495\n"
     ]
    }
   ],
   "source": [
    "def amount_comments(page):\n",
    "    \n",
    "    t = page.find('span', {'class': 'story__comments-link-count'}).text\n",
    "    return t\n",
    "\n",
    "print(amount_comments(art10))"
   ]
  },
  {
   "cell_type": "code",
   "execution_count": 59,
   "metadata": {},
   "outputs": [
    {
     "name": "stdout",
     "output_type": "stream",
     "text": [
      "10121\n"
     ]
    }
   ],
   "source": [
    "def rating(page):\n",
    "    \n",
    "    t = page.find('div', {'class': 'story__rating-count'}).text\n",
    "    return t\n",
    "\n",
    "print(rating(art10))"
   ]
  },
  {
   "cell_type": "code",
   "execution_count": 60,
   "metadata": {},
   "outputs": [
    {
     "name": "stdout",
     "output_type": "stream",
     "text": [
      "alltaets\n"
     ]
    }
   ],
   "source": [
    "def author(page):\n",
    "    \n",
    "    t = page.find('div', {'class': 'user__info-item'}).text\n",
    "    return t\n",
    "\n",
    "print(author(art10))"
   ]
  },
  {
   "cell_type": "code",
   "execution_count": 61,
   "metadata": {},
   "outputs": [
    {
     "name": "stdout",
     "output_type": "stream",
     "text": [
      "Рабочие моменты\n"
     ]
    }
   ],
   "source": [
    "def title(page):\n",
    "    \n",
    "    t = page.find('h2', {'class': 'story__title'}).text\n",
    "    return t\n",
    "\n",
    "print(title(art10))"
   ]
  },
  {
   "cell_type": "code",
   "execution_count": 70,
   "metadata": {},
   "outputs": [
    {
     "name": "stdout",
     "output_type": "stream",
     "text": [
      "https://pikabu.ru/story/rabochie_momentyi_7358483\n"
     ]
    }
   ],
   "source": [
    "def link(page):\n",
    "    \n",
    "    t = [item['href'] for item in page.select('h2 a')]\n",
    "    return t[0]\n",
    "\n",
    "print(link(art10))"
   ]
  },
  {
   "cell_type": "code",
   "execution_count": 73,
   "metadata": {},
   "outputs": [
    {
     "name": "stdout",
     "output_type": "stream",
     "text": [
      "7358483\n"
     ]
    }
   ],
   "source": [
    "def article_id(page):\n",
    "    \n",
    "    t = [item['data-story-id'] for item in page.select('article')]   \n",
    "    return t[0]\n",
    "\n",
    "print(article_id(art10))"
   ]
  },
  {
   "cell_type": "code",
   "execution_count": 118,
   "metadata": {},
   "outputs": [
    {
     "name": "stdout",
     "output_type": "stream",
     "text": [
      "324000\n"
     ]
    }
   ],
   "source": [
    "def views(page):\n",
    "    \n",
    "    t = page.find('div', {'class': 'story__views hint'}).text\n",
    "    t = re.sub(\"^\\s+|\\n|\\r|\\t|\\s+$\", '', t)\n",
    "    t = t.split(\" \")\n",
    "    if (str(t[0])[-1] == 'K'):\n",
    "        t = int(str(t[0])[:-1:]) * 1000\n",
    "    return t\n",
    "    \n",
    "print(views(art10))"
   ]
  },
  {
   "cell_type": "code",
   "execution_count": 137,
   "metadata": {},
   "outputs": [],
   "source": [
    "import datetime"
   ]
  },
  {
   "cell_type": "code",
   "execution_count": 141,
   "metadata": {},
   "outputs": [
    {
     "name": "stdout",
     "output_type": "stream",
     "text": [
      "2020-04-09\n"
     ]
    }
   ],
   "source": [
    "def page_date(page):\n",
    "    \n",
    "    s = [item['datetime'] for item in page.select('time')]  \n",
    "    s = str(s[0])[:10]\n",
    "    s = s.split(\"-\")\n",
    "    d = datetime.date(int(s[0]), int(s[1]), int(s[2]))\n",
    "    return d\n",
    "\n",
    "print(page_date(art10))"
   ]
  },
  {
   "cell_type": "code",
   "execution_count": null,
   "metadata": {},
   "outputs": [],
   "source": []
  },
  {
   "cell_type": "code",
   "execution_count": null,
   "metadata": {},
   "outputs": [],
   "source": []
  },
  {
   "cell_type": "code",
   "execution_count": null,
   "metadata": {},
   "outputs": [],
   "source": []
  }
 ],
 "metadata": {
  "kernelspec": {
   "display_name": "Python 3",
   "language": "python",
   "name": "python3"
  },
  "language_info": {
   "codemirror_mode": {
    "name": "ipython",
    "version": 3
   },
   "file_extension": ".py",
   "mimetype": "text/x-python",
   "name": "python",
   "nbconvert_exporter": "python",
   "pygments_lexer": "ipython3",
   "version": "3.7.6"
  }
 },
 "nbformat": 4,
 "nbformat_minor": 2
}
