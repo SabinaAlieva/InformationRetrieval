{
 "cells": [
  {
   "cell_type": "markdown",
   "metadata": {},
   "source": [
    "##  Реализация web-crawler для сбора коллекции документов с указанного ресурса. \n",
    "\n",
    "Выбор формата хранения коллекции - .csv\n",
    "\n",
    "### Характеристики коллекции:\n",
    "- Объем собранной коллекции не менее 100 тысяч уникальных документов \n",
    "- Размер текста для каждого документа должен быть не менее 2000 символов\n",
    "- Механизм очистки документов от не релевантной информации, например:\n",
    "    - html теги\n",
    "    - ссылки на сторонние или внутренние ресурсы сайта\n",
    "    - ссылки на изображения и видео\n",
    "    - знаки препинания\n",
    "- Выделение признаков документа\n",
    "    - автор\n",
    "    - тематические теги\n",
    "    - рейтинг\n",
    "    - репосты\n",
    "    - дата публикации \n",
    "    - другая метаинформация, предоставляемая ресурсом.\n",
    "\n",
    "### Результатом сдачи является:\n",
    "- код web-crawler\n",
    "- инструмент очистки текстов\n",
    "- исходная коллекция документов\n",
    "- коллекция документов после очистки\n",
    "\n"
   ]
  },
  {
   "cell_type": "markdown",
   "metadata": {},
   "source": [
    "## Результаты сейчас:\n",
    "\n",
    "- Код для скачивания данных с сайта по дате\n",
    "- Выгрузка осуществлена за последние 280 дней в формат html\n"
   ]
  },
  {
   "cell_type": "code",
   "execution_count": null,
   "metadata": {},
   "outputs": [],
   "source": [
    "Признаки документа\n",
    " \n",
    "После исследования содержимого для статьи (тег <article>)\n",
    "В качестве важных признаков документа отобраны:\n",
    "    \n",
    "+ идентификатор статьи: <article data-story-id=\"7358483\" >\n",
    "    \n",
    "+ ссылка на статью и заголовок статьи: <h2 class=\"story__title\">\n",
    "    <a class=\"story__title-link\" \n",
    "    href=\"https://pikabu.ru/story/13_minut_kotoryie_ne_izmenili_mir_7356303\" \n",
    "    target=\"_blank\">13 минут, которые не изменили мир</a></h2>\n",
    "</header>\n",
    "    \n",
    "+ идентификатор автора: ( <div class=\"user__info-item\"><a class=\"user__nick story__user-link\"\n",
    "                         data-profile=\"true\" href=\"/@AuthorName\">AuthorName</a></div> )\n",
    "    \n",
    "+ дата публикации: <div class=\"user__info-item\">\n",
    "    <time class=\"caption story__datetime hint\" datetime=\"2020-04-09T07:34:46+03:00\">2 дня назад</time>\n",
    "    </div>\n",
    "    \n",
    "+ рейтинг: <div class=\"story__rating-count\">14812</div>\n",
    "    \n",
    "+- количчество просмотров: <div aria-label=\"619995 просмотров\" class=\"story__views hint\">\n",
    "    <span class=\"story__views-count story__views-count_loaded\">620K</span>\n",
    "</div>\n",
    "\n",
    "+ количество комментариев: <span class=\"story__comments-link-count\">1046</span>\n",
    "    \n",
    "+ теги  <div class=\"story__tags tags\">\n",
    "    <a class=\"tags__tag\" data-tag=\"Текст\" data-tag-menu=\"true\" \n",
    "        href=\"/tag/%D0%A2%D0%B5%D0%BA%D1%81%D1%82/hot\" rel=\"noopener\"\n",
    "        target=\"_blank\">Текст</a> \n",
    "    <a >Соседи</a> \n",
    "    <a >Электричество</a> \n",
    "    <a >Воровство</a>\n",
    "</div>\n",
    "\n",
    "+ текст публикации\n",
    "    <div class=\"story__content-inner\">\n",
    "    И очень-очень много вложенных тегов разного вида\n",
    "</div>"
   ]
  },
  {
   "cell_type": "code",
   "execution_count": 31,
   "metadata": {},
   "outputs": [],
   "source": [
    "from bs4 import BeautifulSoup\n",
    "import codecs\n",
    "import re\n",
    "import datetime\n",
    "import pandas as pd\n",
    "import os\n",
    "import string\n",
    "from tqdm import tqdm"
   ]
  },
  {
   "cell_type": "code",
   "execution_count": 32,
   "metadata": {},
   "outputs": [],
   "source": [
    "def open_html(file_name):\n",
    "    f = codecs.open(file_name, 'r', 'utf-8')\n",
    "    document = BeautifulSoup(f.read())\n",
    "    return document\n",
    "\n",
    "def printh(text):\n",
    "    print(text.prettify())"
   ]
  },
  {
   "cell_type": "code",
   "execution_count": 33,
   "metadata": {},
   "outputs": [
    {
     "name": "stdout",
     "output_type": "stream",
     "text": [
      "<html>\n",
      " <body>\n",
      "  <article class=\"story\" data-author-id=\"692379\" data-can-vote=\"true\" data-comments=\"665\" data-editable=\"false\" data-meta-rating=\"9211:262\" data-page=\"false\" data-rating=\"8949\" data-slice-type=\"2\" data-story-id=\"7347839\" data-story-long=\"true\" data-timestamp=\"1586546002\" data-vid=\"U7347839\" data-visited=\"false\" data-vkey=\"sdVk\" data-vote=\"0\">\n",
      "   <div class=\"story__left\">\n",
      "    <div class=\"story__scroll story__scroll_disabled\">\n",
      "     <div class=\"story__rating-block\" data-can-vote=\"true\" data-story-id=\"7347839\" data-vote=\"0\">\n",
      "      <div class=\"story__rating-up green-is-not-red\" title=\"Поставить плюсик\">\n",
      "       <svg class=\"icon icon--ui__rating-up icon--ui__rating-up_story\" xmlns=\"http://www.w3.org/2000/svg\">\n",
      "        <use xlink:href=\"#icon--ui__rating-up\">\n",
      "        </use>\n",
      "       </svg>\n",
      "      </div>\n",
      "      <div class=\"story__rating-count\">\n",
      "       8949\n",
      "      </div>\n",
      "      <div class=\"story__rating-down\" title=\"Поставить минус\">\n",
      "       <svg class=\"icon icon--ui__rating-down icon--ui__rating-down_story\" xmlns=\"http://www.w3.org/2000/svg\">\n",
      "        <use xlink:href=\"#icon--ui__rating-down\">\n",
      "        </use>\n",
      "       </svg>\n",
      "      </div>\n",
      "     </div>\n",
      "     <div class=\"collapse-button\">\n",
      "      <div>\n",
      "      </div>\n",
      "      <div>\n",
      "      </div>\n",
      "     </div>\n",
      "    </div>\n",
      "    <span class=\"story__scroll-next-btn\">\n",
      "    </span>\n",
      "   </div>\n",
      "   <div class=\"story__main\">\n",
      "    <header class=\"story__header\">\n",
      "     <h2 class=\"story__title\">\n",
      "      <a class=\"story__title-link\" href=\"https://pikabu.ru/story/kak_menya_chut_ne_ubili_ocherednoy_raz_7347839\" target=\"_blank\">\n",
      "       Как меня чуть не убили очередной раз\n",
      "      </a>\n",
      "     </h2>\n",
      "    </header>\n",
      "    <div class=\"story__content story__typography\" style=\"display: block\">\n",
      "     <div class=\"story__content-inner story__content-inner_slice-by-height\">\n",
      "      <div class=\"story-block story-block_type_text\">\n",
      "       <p>\n",
      "        Если бы можно было бы на пару месяцев в виду карантина спрятаться от моей пищевой аллергии, без продолжения её последствий, я бы это сделала. Так как меня не раз кормили аллергеном в ресторанах, кафе, и это все по предварительной осведомленности об аллергии, поэтому моя участь в основном  готовить себе еду самой.  За время обладания  аллергией на яйца у меня уже есть четкий сценарий действий для \"новых\" блюд или неопробованных продуктов. Что-то новое пробуется маленьким кусочком, ложечкой и требует выждать времени (15 минут). Если начинается реакция под рукой ВСЕГДА антигистаминные, глюкортикостероиды, так же адреналин в ампулах, спиртовые салфетки, шприцы -это  на случай перекрытия дыхательных путей. Когда 10 лет ты справляешься с такой реакцией, начинаешь читать этикетки на упаковках особенно тщательно. А теперь познакомьтесь с моим  последним не состоявшимся убийцей -  соус Mr. Djemius.\n",
      "       </p>\n",
      "      </div>\n",
      "      <div class=\"story-block story-block_type_image\">\n",
      "       <figure class=\"story-image image-lazy\">\n",
      "        <svg aria-hidden=\"true\" class=\"story-image__stretch\" height=\"100%\" viewbox=\"0 0 700 933\" width=\"700\">\n",
      "         <rect height=\"933\" width=\"700\">\n",
      "         </rect>\n",
      "        </svg>\n",
      "        <div class=\"story-image__content image-lazy\">\n",
      "         <a href=\"https://pikabu.ru/story/kak_menya_chut_ne_ubili_ocherednoy_raz_7347839\" target=\"_blank\">\n",
      "          <img alt=\"Как меня чуть не убили очередной раз Аллергия, История, Длиннопост, Жалоба, Соус, Этикетка\" class=\"story-image__image\" data-large-image=\"https://cs12.pikabu.ru/post_img/big/2020/04/05/12/1586118414150641485.jpg\" data-src=\"https://cs12.pikabu.ru/post_img/2020/04/05/12/1586118414150641485.jpg\" data-viewable=\"true\" src=\"\"/>\n",
      "         </a>\n",
      "        </div>\n",
      "       </figure>\n",
      "      </div>\n",
      "      <div class=\"story-block story-block_type_text\">\n",
      "       <p>\n",
      "        На странице товара в магазине указан состав без яиц и его производных. НА ЭТИКЕТКЕ указан состав без яиц и его производных.\n",
      "       </p>\n",
      "      </div>\n",
      "      <div class=\"story-block story-block_type_image\">\n",
      "       <figure class=\"story-image image-lazy\">\n",
      "        <svg aria-hidden=\"true\" class=\"story-image__stretch\" height=\"100%\" viewbox=\"0 0 700 933\" width=\"700\">\n",
      "         <rect height=\"933\" width=\"700\">\n",
      "         </rect>\n",
      "        </svg>\n",
      "        <div class=\"story-image__content image-lazy\">\n",
      "         <a href=\"https://pikabu.ru/story/kak_menya_chut_ne_ubili_ocherednoy_raz_7347839\" target=\"_blank\">\n",
      "          <img alt=\"Как меня чуть не убили очередной раз Аллергия, История, Длиннопост, Жалоба, Соус, Этикетка\" class=\"story-image__image\" data-large-image=\"https://cs13.pikabu.ru/post_img/big/2020/04/05/12/1586118702177349343.jpg\" data-src=\"https://cs13.pikabu.ru/post_img/2020/04/05/12/1586118702177349343.jpg\" data-viewable=\"true\" src=\"\"/>\n",
      "         </a>\n",
      "        </div>\n",
      "       </figure>\n",
      "      </div>\n",
      "      <div class=\"story-block story-block_type_text\">\n",
      "       <p>\n",
      "        И что вы думаете? Протестировав по привычке совсем небольшую дозу у меня началась сильнейшая реакция. А самое интересное чтобы составить хоть какую-то претензию я должна принебречь чувством самосохранения, не следовать правилам экстренной помощи и дождаться скорую помощь для фиксации реакции. Я просто не могу представить, что произойдет с человеком, который начнет есть салатик заправленный таким соусом, если у него похожая аллергия. На конец отойдя от анафилактического шока я попробовала связаться с производителем, но письма и звонки были проигнорированы. Единственное чего я хотела, чтобы появились предупреждения на этикетке и был пересмотрен состав. Именно это возможно сможет спасти чью-то жизнь, а свою так и быть я спасу очередной раз сама.\n",
      "       </p>\n",
      "      </div>\n",
      "     </div>\n",
      "     <span class=\"story__read-more\">\n",
      "      <span>\n",
      "       Показать полностью\n",
      "      </span>\n",
      "      <span>\n",
      "       <b>\n",
      "        2\n",
      "       </b>\n",
      "       <svg class=\"icon icon--ui__photo icon--ui__photo_show-all\" xmlns=\"http://www.w3.org/2000/svg\">\n",
      "        <use xlink:href=\"#icon--ui__photo\">\n",
      "        </use>\n",
      "       </svg>\n",
      "      </span>\n",
      "     </span>\n",
      "    </div>\n",
      "    <div class=\"story__tags tags\">\n",
      "     <a class=\"tags__tag tags__tag_highlight\" href=\"/search?n=16&amp;r=3\" rel=\"noopener\" target=\"_blank\">\n",
      "      [моё]\n",
      "     </a>\n",
      "     <a class=\"tags__tag\" data-tag=\"Аллергия\" data-tag-menu=\"true\" href=\"/tag/%D0%90%D0%BB%D0%BB%D0%B5%D1%80%D0%B3%D0%B8%D1%8F/hot\" rel=\"noopener\" target=\"_blank\">\n",
      "      Аллергия\n",
      "     </a>\n",
      "     <a class=\"tags__tag\" data-tag=\"История\" data-tag-menu=\"true\" href=\"/tag/%D0%98%D1%81%D1%82%D0%BE%D1%80%D0%B8%D1%8F/hot\" rel=\"noopener\" target=\"_blank\">\n",
      "      История\n",
      "     </a>\n",
      "     <a class=\"tags__tag\" data-tag=\"Длиннопост\" data-tag-menu=\"true\" href=\"/tag/%D0%94%D0%BB%D0%B8%D0%BD%D0%BD%D0%BE%D0%BF%D0%BE%D1%81%D1%82/hot\" rel=\"noopener\" target=\"_blank\">\n",
      "      Длиннопост\n",
      "     </a>\n",
      "     <a class=\"tags__tag\" data-tag=\"Жалоба\" data-tag-menu=\"true\" href=\"/tag/%D0%96%D0%B0%D0%BB%D0%BE%D0%B1%D0%B0/hot\" rel=\"noopener\" target=\"_blank\">\n",
      "      Жалоба\n",
      "     </a>\n",
      "     <a class=\"tags__tag\" data-tag=\"Соус\" data-tag-menu=\"true\" href=\"/tag/%D0%A1%D0%BE%D1%83%D1%81/hot\" rel=\"noopener\" target=\"_blank\">\n",
      "      Соус\n",
      "     </a>\n",
      "     <a class=\"tags__tag\" data-tag=\"Этикетка\" data-tag-menu=\"true\" href=\"/tag/%D0%AD%D1%82%D0%B8%D0%BA%D0%B5%D1%82%D0%BA%D0%B0/hot\" rel=\"noopener\" target=\"_blank\">\n",
      "      Этикетка\n",
      "     </a>\n",
      "    </div>\n",
      "    <div class=\"story__footer\">\n",
      "     <div class=\"story__tools\">\n",
      "      <a class=\"story__comments-link story__to-comments\" href=\"https://pikabu.ru/story/kak_menya_chut_ne_ubili_ocherednoy_raz_7347839#comments\">\n",
      "       <span aria-label=\"\" class=\"story__comments-link-icon\">\n",
      "        <svg class=\"icon icon--ui__comments\" xmlns=\"http://www.w3.org/2000/svg\">\n",
      "         <use xlink:href=\"#icon--ui__comments\">\n",
      "         </use>\n",
      "        </svg>\n",
      "       </span>\n",
      "       <span class=\"story__comments-link-count\">\n",
      "        665\n",
      "       </span>\n",
      "      </a>\n",
      "      <div aria-label=\"428918 просмотров\" class=\"story__views hint\">\n",
      "       <span class=\"story__views-icon\">\n",
      "        <svg class=\"icon icon--ui__eye\" xmlns=\"http://www.w3.org/2000/svg\">\n",
      "         <use xlink:href=\"#icon--ui__eye\">\n",
      "         </use>\n",
      "        </svg>\n",
      "       </span>\n",
      "       <span class=\"story__views-count story__views-count_loaded\">\n",
      "        429K\n",
      "       </span>\n",
      "      </div>\n",
      "      <div class=\"story__save\" data-story-id=\"7347839\" title=\"Сохранить\">\n",
      "       <svg class=\"icon icon--ui__save\" xmlns=\"http://www.w3.org/2000/svg\">\n",
      "        <use xlink:href=\"#icon--ui__save\">\n",
      "        </use>\n",
      "       </svg>\n",
      "      </div>\n",
      "      <div class=\"story__share\" data-story-id=\"7347839\" data-title=\"%D0%9A%D0%B0%D0%BA+%D0%BC%D0%B5%D0%BD%D1%8F+%D1%87%D1%83%D1%82%D1%8C+%D0%BD%D0%B5+%D1%83%D0%B1%D0%B8%D0%BB%D0%B8+%D0%BE%D1%87%D0%B5%D1%80%D0%B5%D0%B4%D0%BD%D0%BE%D0%B9+%D1%80%D0%B0%D0%B7\" data-url=\"https%3A%2F%2Fpikabu.ru%2Fstory%2Fkak_menya_chut_ne_ubili_ocherednoy_raz_7347839\" title=\"Поделиться\">\n",
      "       <svg class=\"icon icon--ui__share\" xmlns=\"http://www.w3.org/2000/svg\">\n",
      "        <use xlink:href=\"#icon--ui__share\">\n",
      "        </use>\n",
      "       </svg>\n",
      "      </div>\n",
      "     </div>\n",
      "     <div class=\"story__additional-tools\">\n",
      "     </div>\n",
      "     <div class=\"story__user user\">\n",
      "      <div class=\"user__info user__info_left\">\n",
      "       <div class=\"user__info-item\">\n",
      "        <a class=\"user__nick story__user-link\" data-profile=\"true\" href=\"/@Krema\">\n",
      "         Krema\n",
      "        </a>\n",
      "       </div>\n",
      "       <div class=\"user__info-item\">\n",
      "        <time class=\"caption story__datetime hint\" datetime=\"2020-04-05T23:49:20+03:00\">\n",
      "         5 дней назад\n",
      "        </time>\n",
      "       </div>\n",
      "      </div>\n",
      "      <a class=\"story__user-link\" href=\"/@Krema\">\n",
      "       <div class=\"avatar avatar_op avatar_note image-lazy\" data-name=\"Krema\" data-profile=\"true\">\n",
      "        <span class=\"avatar__inner\">\n",
      "         <img alt=\"Krema\" data-src=\"https://cs6.pikabu.ru/avatars/692/m692379-349327395.jpg\"/>\n",
      "        </span>\n",
      "       </div>\n",
      "      </a>\n",
      "     </div>\n",
      "    </div>\n",
      "   </div>\n",
      "  </article>\n",
      " </body>\n",
      "</html>\n"
     ]
    }
   ],
   "source": [
    "printh(open_html(\"source_hot_html/pikabu46.html\"))"
   ]
  },
  {
   "cell_type": "code",
   "execution_count": 34,
   "metadata": {},
   "outputs": [
    {
     "name": "stdout",
     "output_type": "stream",
     "text": [
      "['моё', 'аллергия', 'история', 'длиннопост', 'жалоба', 'соус', 'этикетка']\n"
     ]
    }
   ],
   "source": [
    "def tags(page):\n",
    "    \n",
    "    try:\n",
    "        text = page.find('div', {'class': 'story__tags tags'}).text\n",
    "        # text = re.sub(\"^\\s+|\\n|\\r|\\s+$\", '', text)\n",
    "        text = clean(text)\n",
    "        text = text.split(\" \")\n",
    "        # text = [str(t).lower() for t in text]\n",
    "        return text\n",
    "    except:\n",
    "        return None\n",
    "\n",
    "art10 = open_html(\"source_hot_html/pikabu46.html\")\n",
    "print(tags(art10))"
   ]
  },
  {
   "cell_type": "code",
   "execution_count": 35,
   "metadata": {},
   "outputs": [],
   "source": [
    "def clean(text):\n",
    "    text = re.sub(r'^\\s+|\\n|\\r|\\t|\\s+$', '', text) # очистка от отступов, переноса строки и табуляций\n",
    "    # text = re.sub(r'[0-9]+', '', text) # очистка от цифр\n",
    "    # возможно в дальнейшем понадобятся даты\n",
    "    table = str.maketrans({key: None for key in string.punctuation}) # шаблон очистки от знаков препинания\n",
    "    text = text.translate(table).lower() # очистка от знаков препинания и перевод в нижний регистр\n",
    "    \n",
    "    return text"
   ]
  },
  {
   "cell_type": "code",
   "execution_count": 36,
   "metadata": {},
   "outputs": [
    {
     "name": "stdout",
     "output_type": "stream",
     "text": [
      "если бы можно было бы на пару месяцев в виду карантина спрятаться от моей пищевой аллергии без продолжения её последствий я бы это сделала так как меня не раз кормили аллергеном в ресторанах кафе и это все по предварительной осведомленности об аллергии поэтому моя участь в основном  готовить себе еду самой  за время обладания  аллергией на яйца у меня уже есть четкий сценарий действий для новых блюд или неопробованных продуктов чтото новое пробуется маленьким кусочком ложечкой и требует выждать времени 15 минут если начинается реакция под рукой всегда антигистаминные глюкортикостероиды так же адреналин в ампулах спиртовые салфетки шприцы это  на случай перекрытия дыхательных путей когда 10 лет ты справляешься с такой реакцией начинаешь читать этикетки на упаковках особенно тщательно а теперь познакомьтесь с моим  последним не состоявшимся убийцей   соус mr djemius на странице товара в магазине указан состав без яиц и его производных на этикетке указан состав без яиц и его производных и что вы думаете протестировав по привычке совсем небольшую дозу у меня началась сильнейшая реакция а самое интересное чтобы составить хоть какуюто претензию я должна принебречь чувством самосохранения не следовать правилам экстренной помощи и дождаться скорую помощь для фиксации реакции я просто не могу представить что произойдет с человеком который начнет есть салатик заправленный таким соусом если у него похожая аллергия на конец отойдя от анафилактического шока я попробовала связаться с производителем но письма и звонки были проигнорированы единственное чего я хотела чтобы появились предупреждения на этикетке и был пересмотрен состав именно это возможно сможет спасти чьюто жизнь а свою так и быть я спасу очередной раз сама\n"
     ]
    }
   ],
   "source": [
    "def text(page):\n",
    "    \n",
    "    try:\n",
    "        t = page.find('div', {'class': 'story__content-inner'}).text\n",
    "        t = clean(t)\n",
    "        # t = t.split(\" \")\n",
    "        return t\n",
    "    except Exception as e:\n",
    "        return None\n",
    "\n",
    "print(text(art10))"
   ]
  },
  {
   "cell_type": "code",
   "execution_count": 37,
   "metadata": {},
   "outputs": [
    {
     "name": "stdout",
     "output_type": "stream",
     "text": [
      "665\n"
     ]
    }
   ],
   "source": [
    "def amount_comments(page):\n",
    "    \n",
    "    try:\n",
    "        t = page.find('span', {'class': 'story__comments-link-count'}).text\n",
    "        return t\n",
    "    except:\n",
    "        return None\n",
    "\n",
    "print(amount_comments(art10))"
   ]
  },
  {
   "cell_type": "code",
   "execution_count": 38,
   "metadata": {},
   "outputs": [
    {
     "name": "stdout",
     "output_type": "stream",
     "text": [
      "8949\n"
     ]
    }
   ],
   "source": [
    "def rating(page):\n",
    "    \n",
    "    try:\n",
    "        t = page.find('div', {'class': 'story__rating-count'}).text\n",
    "        return t\n",
    "    except:\n",
    "        return None\n",
    "\n",
    "print(rating(art10))"
   ]
  },
  {
   "cell_type": "code",
   "execution_count": 39,
   "metadata": {},
   "outputs": [
    {
     "name": "stdout",
     "output_type": "stream",
     "text": [
      "Krema\n"
     ]
    }
   ],
   "source": [
    "def author(page):\n",
    "    \n",
    "    try:\n",
    "        t = page.find('div', {'class': 'user__info-item'}).text\n",
    "        return t\n",
    "    except:\n",
    "        return None\n",
    "\n",
    "print(author(art10))"
   ]
  },
  {
   "cell_type": "code",
   "execution_count": 40,
   "metadata": {},
   "outputs": [
    {
     "name": "stdout",
     "output_type": "stream",
     "text": [
      "как меня чуть не убили очередной раз\n"
     ]
    }
   ],
   "source": [
    "def title(page):\n",
    "    \n",
    "    try:\n",
    "        t = page.find('h2', {'class': 'story__title'}).text\n",
    "        t = clean(t)\n",
    "        return t.lower()\n",
    "    except:\n",
    "        return None\n",
    "    \n",
    "print(title(art10))"
   ]
  },
  {
   "cell_type": "code",
   "execution_count": 41,
   "metadata": {},
   "outputs": [
    {
     "name": "stdout",
     "output_type": "stream",
     "text": [
      "https://pikabu.ru/story/kak_menya_chut_ne_ubili_ocherednoy_raz_7347839\n"
     ]
    }
   ],
   "source": [
    "def link(page):\n",
    "    \n",
    "    try:\n",
    "        t = [item['href'] for item in page.select('h2 a')]\n",
    "        return t[0]\n",
    "    except:\n",
    "        return None\n",
    "\n",
    "print(link(art10))"
   ]
  },
  {
   "cell_type": "code",
   "execution_count": 42,
   "metadata": {},
   "outputs": [
    {
     "name": "stdout",
     "output_type": "stream",
     "text": [
      "7347839\n"
     ]
    }
   ],
   "source": [
    "def article_id(page):\n",
    "    \n",
    "    try:\n",
    "        t = [item['data-story-id'] for item in page.select('article')]   \n",
    "        return t[0]\n",
    "    except:\n",
    "        return None\n",
    "\n",
    "print(article_id(art10))"
   ]
  },
  {
   "cell_type": "code",
   "execution_count": 49,
   "metadata": {},
   "outputs": [
    {
     "name": "stdout",
     "output_type": "stream",
     "text": [
      "429000\n"
     ]
    }
   ],
   "source": [
    "def views(page):\n",
    "    \"\"\"returns soup(page) views by users\"\"\"\n",
    "    try:\n",
    "        view_ = page.find(\"div\", {\"class\": \"story__views hint\"}).text\n",
    "        view_ = re.sub(r\"^\\s+|\\n|\\r|\\t|\\s+$\", \"\", view_)\n",
    "        view_ = view_.split(\" \")\n",
    "        if str(view_[0])[-1] == \"K\":\n",
    "            view_ = float(str(view_[0])[:-1:]) * 1000\n",
    "        return int(view_)\n",
    "    except:\n",
    "        return None\n",
    "    \n",
    "print(views(art10))"
   ]
  },
  {
   "cell_type": "code",
   "execution_count": 44,
   "metadata": {},
   "outputs": [
    {
     "name": "stdout",
     "output_type": "stream",
     "text": [
      "2020-04-05\n"
     ]
    }
   ],
   "source": [
    "def page_date(page):\n",
    "    \n",
    "    try:\n",
    "        s = [item['datetime'] for item in page.select('time')]  \n",
    "        s = str(s[0])[:10]\n",
    "        s = s.split(\"-\")\n",
    "        d = datetime.date(int(s[0]), int(s[1]), int(s[2]))\n",
    "        return d\n",
    "    except:\n",
    "        return None\n",
    "\n",
    "print(page_date(art10))"
   ]
  },
  {
   "cell_type": "code",
   "execution_count": 48,
   "metadata": {},
   "outputs": [
    {
     "name": "stderr",
     "output_type": "stream",
     "text": [
      "100%|██████████████████████████████████████████████████████████████████████████████| 1492/1492 [00:15<00:00, 96.36it/s]\n"
     ]
    },
    {
     "data": {
      "text/html": [
       "<div>\n",
       "<style scoped>\n",
       "    .dataframe tbody tr th:only-of-type {\n",
       "        vertical-align: middle;\n",
       "    }\n",
       "\n",
       "    .dataframe tbody tr th {\n",
       "        vertical-align: top;\n",
       "    }\n",
       "\n",
       "    .dataframe thead th {\n",
       "        text-align: right;\n",
       "    }\n",
       "</style>\n",
       "<table border=\"1\" class=\"dataframe\">\n",
       "  <thead>\n",
       "    <tr style=\"text-align: right;\">\n",
       "      <th></th>\n",
       "      <th>FileName</th>\n",
       "      <th>Title</th>\n",
       "      <th>Link</th>\n",
       "      <th>ArticleId</th>\n",
       "      <th>Date</th>\n",
       "      <th>Views</th>\n",
       "      <th>Author</th>\n",
       "      <th>Tags</th>\n",
       "      <th>AmountComments</th>\n",
       "      <th>Rating</th>\n",
       "      <th>Text</th>\n",
       "    </tr>\n",
       "  </thead>\n",
       "  <tbody>\n",
       "    <tr>\n",
       "      <th>0</th>\n",
       "      <td>pikabu10.html</td>\n",
       "      <td>соседка</td>\n",
       "      <td>https://pikabu.ru/story/sosedka_7356684</td>\n",
       "      <td>7356684</td>\n",
       "      <td>2020-04-09</td>\n",
       "      <td>502000</td>\n",
       "      <td>EdwardSeed</td>\n",
       "      <td>[моё, соседи, электричество, текст, воровство]</td>\n",
       "      <td>1205</td>\n",
       "      <td>14171</td>\n",
       "      <td>делаем с братом капитальный ремонт в квартире ...</td>\n",
       "    </tr>\n",
       "    <tr>\n",
       "      <th>1</th>\n",
       "      <td>pikabu100.html</td>\n",
       "      <td>карантинные будни екатеринбурга</td>\n",
       "      <td>https://pikabu.ru/story/karantinnyie_budni_eka...</td>\n",
       "      <td>7354987</td>\n",
       "      <td>2020-04-08</td>\n",
       "      <td>312000</td>\n",
       "      <td>ghazan</td>\n",
       "      <td>[стишкипирожки, свердловск, екатеринбург, текст]</td>\n",
       "      <td>350</td>\n",
       "      <td>7018</td>\n",
       "      <td>с пустого екатеринбургасползает радужность и л...</td>\n",
       "    </tr>\n",
       "    <tr>\n",
       "      <th>2</th>\n",
       "      <td>pikabu1000.html</td>\n",
       "      <td>роль изоляции в учебном процессе</td>\n",
       "      <td>https://pikabu.ru/story/rol_izolyatsii_v_ucheb...</td>\n",
       "      <td>7342129</td>\n",
       "      <td>2020-04-03</td>\n",
       "      <td>85100</td>\n",
       "      <td>YuraOsinin</td>\n",
       "      <td>[моё, дифтерия, учеба, текст, видео]</td>\n",
       "      <td>58</td>\n",
       "      <td>913</td>\n",
       "      <td>в школе я всегда был «хорошистом» иногда и тро...</td>\n",
       "    </tr>\n",
       "    <tr>\n",
       "      <th>3</th>\n",
       "      <td>pikabu1001.html</td>\n",
       "      <td>адаптируйся преодолевай</td>\n",
       "      <td>https://pikabu.ru/story/adaptiruysya_preodolev...</td>\n",
       "      <td>7350728</td>\n",
       "      <td>2020-04-07</td>\n",
       "      <td>79700</td>\n",
       "      <td>asdfg1975</td>\n",
       "      <td>[собака, лестница, ветеринарный, воротник, видео]</td>\n",
       "      <td>38</td>\n",
       "      <td>892</td>\n",
       "      <td>пикабу</td>\n",
       "    </tr>\n",
       "    <tr>\n",
       "      <th>4</th>\n",
       "      <td>pikabu1002.html</td>\n",
       "      <td>хорошая идея</td>\n",
       "      <td>https://pikabu.ru/story/khoroshaya_ideya_7348756</td>\n",
       "      <td>7348756</td>\n",
       "      <td>2020-04-06</td>\n",
       "      <td>100000</td>\n",
       "      <td>poznikidze</td>\n",
       "      <td>[противогаз, коронавирус, скриншот]</td>\n",
       "      <td>72</td>\n",
       "      <td>1698</td>\n",
       "      <td>httpspikaburustorynovayaoplatatruda7342610cid1...</td>\n",
       "    </tr>\n",
       "  </tbody>\n",
       "</table>\n",
       "</div>"
      ],
      "text/plain": [
       "          FileName                             Title  \\\n",
       "0    pikabu10.html                           соседка   \n",
       "1   pikabu100.html   карантинные будни екатеринбурга   \n",
       "2  pikabu1000.html  роль изоляции в учебном процессе   \n",
       "3  pikabu1001.html           адаптируйся преодолевай   \n",
       "4  pikabu1002.html                      хорошая идея   \n",
       "\n",
       "                                                Link ArticleId        Date  \\\n",
       "0            https://pikabu.ru/story/sosedka_7356684   7356684  2020-04-09   \n",
       "1  https://pikabu.ru/story/karantinnyie_budni_eka...   7354987  2020-04-08   \n",
       "2  https://pikabu.ru/story/rol_izolyatsii_v_ucheb...   7342129  2020-04-03   \n",
       "3  https://pikabu.ru/story/adaptiruysya_preodolev...   7350728  2020-04-07   \n",
       "4   https://pikabu.ru/story/khoroshaya_ideya_7348756   7348756  2020-04-06   \n",
       "\n",
       "    Views      Author                                               Tags  \\\n",
       "0  502000  EdwardSeed     [моё, соседи, электричество, текст, воровство]   \n",
       "1  312000      ghazan   [стишкипирожки, свердловск, екатеринбург, текст]   \n",
       "2   85100  YuraOsinin               [моё, дифтерия, учеба, текст, видео]   \n",
       "3   79700   asdfg1975  [собака, лестница, ветеринарный, воротник, видео]   \n",
       "4  100000  poznikidze                [противогаз, коронавирус, скриншот]   \n",
       "\n",
       "  AmountComments Rating                                               Text  \n",
       "0           1205  14171  делаем с братом капитальный ремонт в квартире ...  \n",
       "1            350   7018  с пустого екатеринбургасползает радужность и л...  \n",
       "2             58    913  в школе я всегда был «хорошистом» иногда и тро...  \n",
       "3             38    892                                             пикабу  \n",
       "4             72   1698  httpspikaburustorynovayaoplatatruda7342610cid1...  "
      ]
     },
     "execution_count": 48,
     "metadata": {},
     "output_type": "execute_result"
    }
   ],
   "source": [
    "# полный парсинг статьи\n",
    "\n",
    "data = []\n",
    "columns = (['FileName','Title','Link','ArticleId','Date','Views','Author',\n",
    "                             'Tags','AmountComments', 'Rating','Text'])\n",
    "\n",
    "# directory = r'C:\\Users\\Public\\Projects\\python\\Pikabu\\InformationRetrieval\\src\\data\\data'\n",
    "directory = \"source_hot_html\" \n",
    "files_list = os.listdir(directory)\n",
    "\n",
    "array = []\n",
    "\n",
    "for f in tqdm(files_list):\n",
    "    page = open_html(os.path.join(directory,f))\n",
    "\n",
    "    array = ([f, title(page), link(page), article_id(page), page_date(page), views(page), \n",
    "             author(page), tags(page), amount_comments(page), rating(page), text(page)])\n",
    "    \n",
    "    data.append(dict(zip(columns, array)))\n",
    "    array = []\n",
    "\n",
    "df = pd.DataFrame(data)\n",
    "df.head()"
   ]
  },
  {
   "cell_type": "code",
   "execution_count": 46,
   "metadata": {},
   "outputs": [],
   "source": [
    "df.to_csv(\"data_hot.csv\")"
   ]
  },
  {
   "cell_type": "code",
   "execution_count": null,
   "metadata": {},
   "outputs": [],
   "source": []
  }
 ],
 "metadata": {
  "kernelspec": {
   "display_name": "Python 3",
   "language": "python",
   "name": "python3"
  },
  "language_info": {
   "codemirror_mode": {
    "name": "ipython",
    "version": 3
   },
   "file_extension": ".py",
   "mimetype": "text/x-python",
   "name": "python",
   "nbconvert_exporter": "python",
   "pygments_lexer": "ipython3",
   "version": "3.7.6"
  }
 },
 "nbformat": 4,
 "nbformat_minor": 2
}
