{
 "cells": [
  {
   "cell_type": "code",
   "execution_count": 1,
   "metadata": {},
   "outputs": [],
   "source": [
    "import pandas as pd"
   ]
  },
  {
   "cell_type": "code",
   "execution_count": 2,
   "metadata": {},
   "outputs": [],
   "source": [
    "filename = \"pikabu_dataset_good.csv\"\n",
    "filename_2000 = \"pikabu_clean_dataset_2000.csv\"\n",
    "filename_hot = \"hot_dataset_processed.csv\""
   ]
  },
  {
   "cell_type": "code",
   "execution_count": 3,
   "metadata": {},
   "outputs": [],
   "source": [
    "df = pd.read_csv(filename_2000)"
   ]
  },
  {
   "cell_type": "code",
   "execution_count": 22,
   "metadata": {},
   "outputs": [
    {
     "data": {
      "text/html": [
       "<div>\n",
       "<style scoped>\n",
       "    .dataframe tbody tr th:only-of-type {\n",
       "        vertical-align: middle;\n",
       "    }\n",
       "\n",
       "    .dataframe tbody tr th {\n",
       "        vertical-align: top;\n",
       "    }\n",
       "\n",
       "    .dataframe thead th {\n",
       "        text-align: right;\n",
       "    }\n",
       "</style>\n",
       "<table border=\"1\" class=\"dataframe\">\n",
       "  <thead>\n",
       "    <tr style=\"text-align: right;\">\n",
       "      <th></th>\n",
       "      <th>Title</th>\n",
       "      <th>Link</th>\n",
       "      <th>Date</th>\n",
       "      <th>Views</th>\n",
       "      <th>Author</th>\n",
       "      <th>Tags</th>\n",
       "      <th>AmountComments</th>\n",
       "      <th>Rating</th>\n",
       "      <th>Text</th>\n",
       "    </tr>\n",
       "  </thead>\n",
       "  <tbody>\n",
       "    <tr>\n",
       "      <th>0</th>\n",
       "      <td>один история кафе добавка</td>\n",
       "      <td>https://pikabu.ru/story/eshche_odna_moya_istor...</td>\n",
       "      <td>2014-11-05</td>\n",
       "      <td>NaN</td>\n",
       "      <td>bambaleilo</td>\n",
       "      <td>работа случай жизнь неприятный ситуация помощь...</td>\n",
       "      <td>11.0</td>\n",
       "      <td>11.0</td>\n",
       "      <td>писать работать кассир кафе время летний каник...</td>\n",
       "    </tr>\n",
       "    <tr>\n",
       "      <th>1</th>\n",
       "      <td>сиродить удивительный потрясать страна заметит...</td>\n",
       "      <td>https://pikabu.ru/story/sirodil__udivitelnaya_...</td>\n",
       "      <td>2014-11-05</td>\n",
       "      <td>NaN</td>\n",
       "      <td>temychin</td>\n",
       "      <td>забавный история мой текст длиннопост</td>\n",
       "      <td>13.0</td>\n",
       "      <td>1.0</td>\n",
       "      <td>хотя сиродиил похожий феодальный королевство с...</td>\n",
       "    </tr>\n",
       "    <tr>\n",
       "      <th>2</th>\n",
       "      <td>ранний деревня гулящий девка наказывать</td>\n",
       "      <td>https://pikabu.ru/story/kak_ranshe_v_derevne_g...</td>\n",
       "      <td>2014-11-05</td>\n",
       "      <td>NaN</td>\n",
       "      <td>GubastiKudryash</td>\n",
       "      <td>мой текст длиннопост рассказ автор мой</td>\n",
       "      <td>119.0</td>\n",
       "      <td>1743.0</td>\n",
       "      <td>слово мой бабушкигулить баба никто мешать пока...</td>\n",
       "    </tr>\n",
       "    <tr>\n",
       "      <th>3</th>\n",
       "      <td>снагой</td>\n",
       "      <td>https://pikabu.ru/story/snag_pt1_2804035</td>\n",
       "      <td>2014-11-06</td>\n",
       "      <td>NaN</td>\n",
       "      <td>nezra</td>\n",
       "      <td>мой текст мой рассказ длиннопост</td>\n",
       "      <td>2.0</td>\n",
       "      <td>-1.0</td>\n",
       "      <td>мой имя ганс рейзер простой солдатнуть тоимя г...</td>\n",
       "    </tr>\n",
       "    <tr>\n",
       "      <th>4</th>\n",
       "      <td>странный мелодия</td>\n",
       "      <td>https://pikabu.ru/story/strannaya_melodiya_280...</td>\n",
       "      <td>2014-11-06</td>\n",
       "      <td>NaN</td>\n",
       "      <td>Vodochka</td>\n",
       "      <td>мой длиннопост мелодия музыка знакомство девуш...</td>\n",
       "      <td>25.0</td>\n",
       "      <td>323.0</td>\n",
       "      <td>около восемь часы вечер спокойно возвращаться ...</td>\n",
       "    </tr>\n",
       "  </tbody>\n",
       "</table>\n",
       "</div>"
      ],
      "text/plain": [
       "                                               Title  \\\n",
       "0                          один история кафе добавка   \n",
       "1  сиродить удивительный потрясать страна заметит...   \n",
       "2            ранний деревня гулящий девка наказывать   \n",
       "3                                             снагой   \n",
       "4                                   странный мелодия   \n",
       "\n",
       "                                                Link        Date  Views  \\\n",
       "0  https://pikabu.ru/story/eshche_odna_moya_istor...  2014-11-05    NaN   \n",
       "1  https://pikabu.ru/story/sirodil__udivitelnaya_...  2014-11-05    NaN   \n",
       "2  https://pikabu.ru/story/kak_ranshe_v_derevne_g...  2014-11-05    NaN   \n",
       "3           https://pikabu.ru/story/snag_pt1_2804035  2014-11-06    NaN   \n",
       "4  https://pikabu.ru/story/strannaya_melodiya_280...  2014-11-06    NaN   \n",
       "\n",
       "            Author                                               Tags  \\\n",
       "0       bambaleilo  работа случай жизнь неприятный ситуация помощь...   \n",
       "1         temychin              забавный история мой текст длиннопост   \n",
       "2  GubastiKudryash             мой текст длиннопост рассказ автор мой   \n",
       "3            nezra                   мой текст мой рассказ длиннопост   \n",
       "4         Vodochka  мой длиннопост мелодия музыка знакомство девуш...   \n",
       "\n",
       "   AmountComments  Rating                                               Text  \n",
       "0            11.0    11.0  писать работать кассир кафе время летний каник...  \n",
       "1            13.0     1.0  хотя сиродиил похожий феодальный королевство с...  \n",
       "2           119.0  1743.0  слово мой бабушкигулить баба никто мешать пока...  \n",
       "3             2.0    -1.0  мой имя ганс рейзер простой солдатнуть тоимя г...  \n",
       "4            25.0   323.0  около восемь часы вечер спокойно возвращаться ...  "
      ]
     },
     "execution_count": 22,
     "metadata": {},
     "output_type": "execute_result"
    }
   ],
   "source": [
    "df.head()"
   ]
  },
  {
   "cell_type": "code",
   "execution_count": 4,
   "metadata": {},
   "outputs": [],
   "source": [
    "df_regression = df[['Text', 'Rating']].dropna()\n",
    "X, y = df_regression[\"Text\"], df_regression[\"Rating\"]"
   ]
  },
  {
   "cell_type": "code",
   "execution_count": 5,
   "metadata": {},
   "outputs": [],
   "source": [
    "from sklearn.feature_extraction.text import CountVectorizer\n",
    "\n",
    "vectorizer = CountVectorizer(max_features=1000, min_df=5, max_df=0.7)\n",
    "X_countVectorizer = vectorizer.fit_transform(X).toarray()"
   ]
  },
  {
   "cell_type": "code",
   "execution_count": 6,
   "metadata": {},
   "outputs": [
    {
     "data": {
      "text/plain": [
       "(22069, 1000)"
      ]
     },
     "execution_count": 6,
     "metadata": {},
     "output_type": "execute_result"
    }
   ],
   "source": [
    "X_countVectorizer.shape"
   ]
  },
  {
   "cell_type": "code",
   "execution_count": 7,
   "metadata": {},
   "outputs": [],
   "source": [
    "from sklearn.feature_extraction.text import TfidfTransformer\n",
    "\n",
    "tfidfconverter = TfidfTransformer()\n",
    "X_tfIdf = tfidfconverter.fit_transform(X_countVectorizer).toarray()"
   ]
  },
  {
   "cell_type": "code",
   "execution_count": null,
   "metadata": {},
   "outputs": [],
   "source": []
  },
  {
   "cell_type": "code",
   "execution_count": 8,
   "metadata": {},
   "outputs": [],
   "source": [
    "from sklearn.model_selection import train_test_split\n",
    "X_train, X_test, y_train, y_test = train_test_split(X_tfIdf, y, test_size=0.2, random_state=0)"
   ]
  },
  {
   "cell_type": "code",
   "execution_count": 9,
   "metadata": {},
   "outputs": [],
   "source": [
    "from sklearn.linear_model import LinearRegression\n",
    "reg = LinearRegression().fit(X_train, y_train)\n",
    "y_pred = reg.predict(X_test)"
   ]
  },
  {
   "cell_type": "code",
   "execution_count": 12,
   "metadata": {},
   "outputs": [],
   "source": [
    "from xgboost import XGBRegressor\n",
    "model = XGBRegressor()\n",
    "model.fit(X_train, y_train, verbose=False)\n",
    "y_pred = model.predict(X_test)"
   ]
  },
  {
   "cell_type": "code",
   "execution_count": 19,
   "metadata": {},
   "outputs": [],
   "source": [
    "from catboost import CatBoostRegressor\n",
    "model = CatBoostRegressor(iterations=100, learning_rate=0.1, depth=8, verbose=False)\n",
    "model.fit(X_train, y_train)\n",
    "y_pred = model.predict(X_test)"
   ]
  },
  {
   "cell_type": "code",
   "execution_count": 23,
   "metadata": {},
   "outputs": [],
   "source": [
    "from sklearn.ensemble import RandomForestRegressor\n",
    "regr = RandomForestRegressor(max_depth=2, random_state=0)\n",
    "regr.fit(X_train, y_train)\n",
    "y_pred = regr.predict(X_test)"
   ]
  },
  {
   "cell_type": "code",
   "execution_count": 24,
   "metadata": {},
   "outputs": [
    {
     "data": {
      "text/plain": [
       "851.6390166965465"
      ]
     },
     "execution_count": 24,
     "metadata": {},
     "output_type": "execute_result"
    }
   ],
   "source": [
    "from sklearn.metrics import mean_squared_error\n",
    "import math\n",
    "math.sqrt(mean_squared_error(y_test, y_pred))"
   ]
  },
  {
   "cell_type": "code",
   "execution_count": 25,
   "metadata": {},
   "outputs": [
    {
     "data": {
      "text/plain": [
       "339.0877505492456"
      ]
     },
     "execution_count": 25,
     "metadata": {},
     "output_type": "execute_result"
    }
   ],
   "source": [
    "from sklearn.metrics import mean_absolute_error\n",
    "\n",
    "mean_absolute_error(y_test, y_pred)"
   ]
  },
  {
   "cell_type": "code",
   "execution_count": null,
   "metadata": {},
   "outputs": [],
   "source": []
  },
  {
   "cell_type": "code",
   "execution_count": null,
   "metadata": {},
   "outputs": [],
   "source": []
  },
  {
   "cell_type": "code",
   "execution_count": null,
   "metadata": {},
   "outputs": [],
   "source": []
  },
  {
   "cell_type": "code",
   "execution_count": null,
   "metadata": {},
   "outputs": [],
   "source": []
  }
 ],
 "metadata": {
  "kernelspec": {
   "display_name": "Python 3",
   "language": "python",
   "name": "python3"
  },
  "language_info": {
   "codemirror_mode": {
    "name": "ipython",
    "version": 3
   },
   "file_extension": ".py",
   "mimetype": "text/x-python",
   "name": "python",
   "nbconvert_exporter": "python",
   "pygments_lexer": "ipython3",
   "version": "3.7.6"
  }
 },
 "nbformat": 4,
 "nbformat_minor": 2
}
