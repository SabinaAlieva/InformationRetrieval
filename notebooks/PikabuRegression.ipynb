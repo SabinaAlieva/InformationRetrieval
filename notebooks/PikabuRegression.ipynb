{
  "nbformat": 4,
  "nbformat_minor": 0,
  "metadata": {
    "colab": {
      "name": "PikabuRegression.ipynb",
      "provenance": []
    },
    "kernelspec": {
      "name": "python3",
      "display_name": "Python 3"
    }
  },
  "cells": [
    {
      "cell_type": "code",
      "metadata": {
        "id": "jG_DHDlwxYLQ",
        "colab_type": "code",
        "colab": {}
      },
      "source": [
        "import pandas as pd\n",
        "\n",
        "filename = \"pikabu_clean_dataset_2000.csv\"\n",
        "filename_hot = \"hot_dataset_processed.csv\""
      ],
      "execution_count": 0,
      "outputs": []
    },
    {
      "cell_type": "code",
      "metadata": {
        "id": "x56DlSVixkES",
        "colab_type": "code",
        "colab": {}
      },
      "source": [
        "data = pd.read_csv(filename)\n",
        "data = data[['Text', 'Title', 'Tags', 'Rating']].dropna()"
      ],
      "execution_count": 0,
      "outputs": []
    },
    {
      "cell_type": "code",
      "metadata": {
        "id": "7jy9cYOCJ8fa",
        "colab_type": "code",
        "colab": {}
      },
      "source": [
        "from sklearn.ensemble import IsolationForest\n",
        "\n",
        "iso_forest = IsolationForest(n_estimators=100, contamination=0.1)\n",
        "iso_forest.fit(data[['Rating']])\n",
        "iso_forest_prediction = iso_forest.predict(data[['Rating']])"
      ],
      "execution_count": 0,
      "outputs": []
    },
    {
      "cell_type": "code",
      "metadata": {
        "id": "WovF36GMNmh3",
        "colab_type": "code",
        "colab": {}
      },
      "source": [
        "indexes = [i for i in range(len(iso_forest_prediction)) if iso_forest_prediction[i] == -1]"
      ],
      "execution_count": 0,
      "outputs": []
    },
    {
      "cell_type": "code",
      "metadata": {
        "id": "cxi6KLOBMmDI",
        "colab_type": "code",
        "colab": {}
      },
      "source": [
        "data = data.drop(data.index[indexes])"
      ],
      "execution_count": 0,
      "outputs": []
    },
    {
      "cell_type": "code",
      "metadata": {
        "id": "Ag5UDmDQxj_8",
        "colab_type": "code",
        "colab": {}
      },
      "source": [
        "import tensorflow_hub as hub\n",
        "import tensorflow.compat.v1 as tf\n",
        "\n",
        "tf.disable_v2_behavior()\n",
        "embed = hub.load(\"https://tfhub.dev/google/universal-sentence-encoder/4\")\n",
        "\n",
        "with tf.Session() as session:\n",
        "    session.run([tf.global_variables_initializer(), \n",
        "                 tf.tables_initializer()])\n",
        "    #text_embeddings = session.run(embed(data['Text'][:1000]))\n",
        "    text_embeddings = session.run(embed(data['Text'][:7000]))"
      ],
      "execution_count": 0,
      "outputs": []
    },
    {
      "cell_type": "code",
      "metadata": {
        "id": "FuL1dTjvxj9x",
        "colab_type": "code",
        "colab": {}
      },
      "source": [
        "with tf.Session() as session:\n",
        "    session.run([tf.global_variables_initializer(), \n",
        "                 tf.tables_initializer()])\n",
        "    #title_embeddings = session.run(embed(data['Title'][:1000]))\n",
        "    title_embeddings = session.run(embed(data['Title'][:7000]))"
      ],
      "execution_count": 0,
      "outputs": []
    },
    {
      "cell_type": "code",
      "metadata": {
        "id": "tyXZHDElxj7W",
        "colab_type": "code",
        "colab": {}
      },
      "source": [
        "#tags = [text for text in data['Tags'][:1000]]\n",
        "tags = [text for text in data['Tags'][:7000]]"
      ],
      "execution_count": 0,
      "outputs": []
    },
    {
      "cell_type": "code",
      "metadata": {
        "id": "Ddwz09UDxj46",
        "colab_type": "code",
        "colab": {}
      },
      "source": [
        "from sklearn.feature_extraction.text import TfidfVectorizer\n",
        "\n",
        "vectorizer = TfidfVectorizer()\n",
        "tags_encoding = vectorizer.fit_transform(tags)"
      ],
      "execution_count": 0,
      "outputs": []
    },
    {
      "cell_type": "code",
      "metadata": {
        "id": "h1VVkpjTxj3q",
        "colab_type": "code",
        "colab": {}
      },
      "source": [
        "from sklearn.model_selection import train_test_split #разбиение выборок\n",
        "import numpy as np\n",
        "\n",
        "vector_space = np.concatenate((tags_encoding.toarray(),title_embeddings,text_embeddings),axis=1)\n",
        "#X_train, X_test, y_train, y_test = train_test_split(vector_space, data['Rating'][:1000], test_size=0.15, random_state=42)\n",
        "X_train, X_test, y_train, y_test = train_test_split(vector_space, data['Rating'][:7000], test_size=0.15, random_state=42)"
      ],
      "execution_count": 0,
      "outputs": []
    },
    {
      "cell_type": "code",
      "metadata": {
        "id": "zrEGoQt67JJE",
        "colab_type": "code",
        "colab": {
          "base_uri": "https://localhost:8080/",
          "height": 151
        },
        "outputId": "c4bc27cd-517c-4ec3-98c8-69ce6b0a9930"
      },
      "source": [
        "from xgboost import XGBRegressor\n",
        "model = XGBRegressor()\n",
        "model.fit(X_train, y_train, verbose=False)"
      ],
      "execution_count": 22,
      "outputs": [
        {
          "output_type": "stream",
          "text": [
            "[17:45:42] WARNING: /workspace/src/objective/regression_obj.cu:152: reg:linear is now deprecated in favor of reg:squarederror.\n"
          ],
          "name": "stdout"
        },
        {
          "output_type": "execute_result",
          "data": {
            "text/plain": [
              "XGBRegressor(base_score=0.5, booster='gbtree', colsample_bylevel=1,\n",
              "             colsample_bynode=1, colsample_bytree=1, gamma=0,\n",
              "             importance_type='gain', learning_rate=0.1, max_delta_step=0,\n",
              "             max_depth=3, min_child_weight=1, missing=None, n_estimators=100,\n",
              "             n_jobs=1, nthread=None, objective='reg:linear', random_state=0,\n",
              "             reg_alpha=0, reg_lambda=1, scale_pos_weight=1, seed=None,\n",
              "             silent=None, subsample=1, verbosity=1)"
            ]
          },
          "metadata": {
            "tags": []
          },
          "execution_count": 22
        }
      ]
    },
    {
      "cell_type": "code",
      "metadata": {
        "id": "k0OVFGgl7JHW",
        "colab_type": "code",
        "colab": {
          "base_uri": "https://localhost:8080/",
          "height": 34
        },
        "outputId": "f30b0776-0877-4929-b960-6e4f356294bd"
      },
      "source": [
        "import math\n",
        "from sklearn.metrics import mean_squared_error\n",
        "print('RMSE для тестовых данных равен: ' + str(math.sqrt(mean_squared_error([int(i) for i in model.predict(X_test)],y_test))))"
      ],
      "execution_count": 23,
      "outputs": [
        {
          "output_type": "stream",
          "text": [
            "RMSE для тестовых данных равен: 57.10066714010708\n"
          ],
          "name": "stdout"
        }
      ]
    },
    {
      "cell_type": "code",
      "metadata": {
        "id": "DYel0SEB7JCq",
        "colab_type": "code",
        "colab": {
          "base_uri": "https://localhost:8080/",
          "height": 279
        },
        "outputId": "b7e8cf2b-de40-4ef8-d7bb-65bf543dda4e"
      },
      "source": [
        "import seaborn as sns\n",
        "import matplotlib.pyplot as plt\n",
        "\n",
        "pred = [int(i) for i in model.predict(X_test)]\n",
        "ax1 = sns.scatterplot(range(len(pred)),pred, color = 'blue', label=\"Predicted\")\n",
        "ax2 = sns.scatterplot(range(len(pred)),y_test, color = 'orange', label=\"True Value\")\n",
        "ax1.set(xlabel='Временной ряд', ylabel='Рейтинг поста')\n",
        "plt.show()"
      ],
      "execution_count": 24,
      "outputs": [
        {
          "output_type": "display_data",
          "data": {
            "image/png": "[encoded data removed]",
            "text/plain": [
              "<Figure size 432x288 with 1 Axes>"
            ]
          },
          "metadata": {
            "tags": [],
            "needs_background": "light"
          }
        }
      ]
    },
    {
      "cell_type": "code",
      "metadata": {
        "id": "tIpfAodt-zle",
        "colab_type": "code",
        "colab": {}
      },
      "source": [
        ""
      ],
      "execution_count": 0,
      "outputs": []
    },
    {
      "cell_type": "code",
      "metadata": {
        "id": "4NXAlKqC-zi4",
        "colab_type": "code",
        "colab": {}
      },
      "source": [
        ""
      ],
      "execution_count": 0,
      "outputs": []
    },
    {
      "cell_type": "code",
      "metadata": {
        "id": "25DaztOB-zfv",
        "colab_type": "code",
        "colab": {}
      },
      "source": [
        ""
      ],
      "execution_count": 0,
      "outputs": []
    }
  ]
}